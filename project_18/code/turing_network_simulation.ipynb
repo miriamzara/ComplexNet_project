{
 "cells": [
  {
   "cell_type": "code",
   "execution_count": 26,
   "metadata": {},
   "outputs": [],
   "source": [
    "import numpy as np\n",
    "import igraph as ig\n",
    "import matplotlib.pyplot as plt\n",
    "import matplotlib.ticker as ticker\n",
    "import pandas as pd\n",
    "import seaborn as sns\n",
    "import random\n",
    "from numpy import linalg"
   ]
  },
  {
   "cell_type": "code",
   "execution_count": 31,
   "metadata": {},
   "outputs": [],
   "source": [
    "## REACTION MODEL Mimura - Murray ##\n",
    "a = 35\n",
    "b = 16\n",
    "c = 9\n",
    "d = 2/5\n",
    "## Diffusion parameters ##\n",
    "epsilon = 0.12\n",
    "sigma = 15.6\n",
    "## Reaction Model related quantities ##\n",
    "def compute_fixed_point(a = a, b = b, c = c, d = d):\n",
    "    coeff = [d*d, (c + 2*d - b * d), (1 - a - b)]\n",
    "    roots = np.roots(coeff)\n",
    "    v = max(roots)\n",
    "    u = 1 + d * v\n",
    "    return [u,v]\n",
    "\n",
    "def compute_jacobian(a = a, b = b, c = c, d = d):\n",
    "    [u, v] = compute_fixed_point()\n",
    "    f_partial_u = (1 / c) * (2 * b * u - 3 * u * u + a - c * v)\n",
    "    f_partial_v = - u\n",
    "    g_partial_u = + v\n",
    "    g_partial_v = - 2 * d * v + u - 1\n",
    "    J = np.zeros((2, 2))\n",
    "    J[0, 0] = f_partial_u\n",
    "    J[0, 1] = f_partial_v\n",
    "    J[1, 0] = g_partial_u\n",
    "    J[1, 1] = g_partial_v\n",
    "    return J\n",
    "\n",
    "def compute_critical_sigma():\n",
    "    J = compute_jacobian()\n",
    "    sigma = (np.linalg.det(J) + np.abs(J[0,1] * J[1, 0]) + 2 * np.sqrt(np.linalg.det(J) * np.abs(J[0,1] * J[1, 0]))) / np.square(J[0, 0])\n",
    "    return sigma\n",
    "\n",
    "## Diffusion related quantities ##\n",
    "\n",
    "def compute_critical_eigenvalue(epsilon = epsilon):\n",
    "    sigma = compute_critical_sigma()\n",
    "    J = compute_jacobian()\n",
    "    num = sigma * (J[0, 0] - J[1, 1]) - (sigma + 1) * np.sqrt(sigma * np.abs(J[1,1]) * J[1, 0])    \n",
    "    den = epsilon * sigma * (sigma - 1)\n",
    "    eig = num / den\n",
    "    return eig\n",
    "\n",
    "#def compute_upper_branch(epsilon = epsilon):\n",
    "\n",
    "\n",
    "## NUMERICAL INTEGRATION ##\n",
    "\n",
    "def vector_field(u, v, a = a, b = b, c = c, d = d):\n",
    "    f = ((a + b * u - u * u) / c - v) * u\n",
    "    g = (u - (1 + d * v)) * v\n",
    "    return [f, g]\n",
    "\n",
    "def perturbed_vec(u, perturbation_amplitude = 0.1):\n",
    "    for index in np.arange(0, len(u)):\n",
    "        u[index] += random.uniform(-perturbation_amplitude, + perturbation_amplitude)\n",
    "    return u\n",
    "\n",
    "# Graph functions #\n",
    "\n",
    "# define a Barabasi-Albert graph with node indices sorted by degree in descending order (hubs first)\n",
    "def ba_graph(n, mean_degree):\n",
    "    m = int(mean_degree/2)  \n",
    "    ba_graph = ig.Graph.Barabasi(n, m)\n",
    "    degrees = ba_graph.degree()\n",
    "    sorted_indices = sorted(range(len(degrees)), key=lambda k: degrees[k], reverse=True)\n",
    "    new_indices = {old_idx: new_idx for new_idx, old_idx in enumerate(sorted_indices)}\n",
    "    reindexed_edges = [(new_indices[edge.source], new_indices[edge.target]) for edge in ba_graph.es]\n",
    "    graph = ig.Graph(edges=reindexed_edges)\n",
    "    return graph\n",
    "\n",
    "def find_closest_eigenvalue(g, critical_eigenvalue):\n",
    "    laplacian_matrix = np.array(g.laplacian())\n",
    "    eigenvalues, eigenvectors = np.linalg.eigh(laplacian_matrix)\n",
    "    chosen_index = 0\n",
    "    for index, eig in enumerate(eigenvalues):\n",
    "\n"
   ]
  },
  {
   "cell_type": "code",
   "execution_count": 29,
   "metadata": {},
   "outputs": [],
   "source": [
    "## Graph Parameters ##\n",
    "num_nodes = 1000\n",
    "mean_degree = 20\n",
    "\n",
    "u_eq = np.full(num_nodes, compute_fixed_point()[0], dtype= float)\n",
    "v_eq = np.full(num_nodes, compute_fixed_point()[1],  dtype= float)\n",
    "\n",
    "u_0 = perturbed_vec(u_eq)\n",
    "g = ba_graph(num_nodes, mean_degree)\n",
    "laplacian_matrix = np.array(g.laplacian())\n",
    "eigenvalues, eigenvectors = np.linalg.eigh(laplacian_matrix)"
   ]
  },
  {
   "cell_type": "code",
   "execution_count": 34,
   "metadata": {},
   "outputs": [
    {
     "data": {
      "text/plain": [
       "-22.033138203296854"
      ]
     },
     "execution_count": 34,
     "metadata": {},
     "output_type": "execute_result"
    }
   ],
   "source": [
    "compute_critical_eigenvalue(epsilon= 0.06)"
   ]
  }
 ],
 "metadata": {
  "kernelspec": {
   "display_name": "Python 3",
   "language": "python",
   "name": "python3"
  },
  "language_info": {
   "codemirror_mode": {
    "name": "ipython",
    "version": 3
   },
   "file_extension": ".py",
   "mimetype": "text/x-python",
   "name": "python",
   "nbconvert_exporter": "python",
   "pygments_lexer": "ipython3",
   "version": "3.12.0"
  }
 },
 "nbformat": 4,
 "nbformat_minor": 2
}
